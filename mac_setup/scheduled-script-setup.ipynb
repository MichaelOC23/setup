{
 "cells": [
  {
   "cell_type": "code",
   "execution_count": 5,
   "metadata": {
    "vscode": {
     "languageId": "shellscript"
    }
   },
   "outputs": [
    {
     "name": "stdout",
     "output_type": "stream",
     "text": [
      "-\t0\tcom.michasmi.azurecommit.plist\n"
     ]
    }
   ],
   "source": [
    "# If you are setting up a new computer, the following steps will automate the process of scheduling the azure-devops hourly commit\n",
    "!cp ~/vscode/code-admin/git-scripts/scheduled_scripts/com.michasmi.azurecommit.plist ~/Library/LaunchAgents/\n",
    "!launchctl load ~/Library/LaunchAgents/com.michasmi.azurecommit.plist\n",
    "!launchctl list | grep com.michasmi.azurecommit"
   ]
  },
  {
   "cell_type": "markdown",
   "metadata": {},
   "source": [
    "# Create a Launchd Scheduled Script\n",
    "___\n",
    "On macOS, while both `cron` and `launchd` can be used to schedule tasks, `launchd` is the recommended approach. Apple has been encouraging the use of `launchd` over `cron` for quite some time. The main reasons for this are:\n",
    "\n",
    "1. **Integrated with the System**: `launchd` is deeply integrated into macOS. It's responsible for launching both system and user-level daemons and agents.\n",
    "2. **More Capabilities**: `launchd` can start jobs based on various triggers, not just time intervals. For instance, a job can be triggered based on the presence of a file or a directory.\n",
    "3. **Power Awareness**: `launchd` is power-aware. If your machine is asleep when a job is scheduled to run, `launchd` will run the job when the machine wakes up.\n",
    "4. **Logging**: `launchd` jobs can be easily integrated with the system's logging mechanism.\n",
    "5. **Deprecation of `cron`**: There's always a possibility that Apple might deprecate `cron` in future macOS versions, given their push towards `launchd`.\n",
    "\n",
    "Here's how you can set up a `launchd` job to run a script every hour:\n",
    "\n",
    "1. **Create a plist File**: The configuration for `launchd` jobs is stored in plist (XML) files. Create a plist file, for example, `com.username.myscript.plist`, with the following content:\n",
    "\n",
    "```xml\n",
    "<see below for sample>\n",
    "```\n",
    "\n",
    "Make sure to replace `/path/to/your/script.sh` with the actual path to your script and `/path/to/your/logfile.log` with the path where you want the output to be logged.\n",
    "\n",
    "2. **Load the Job**: Once the plist file is created, place it in `~/Library/LaunchAgents/` (for user-specific jobs) or `/Library/LaunchDaemons/` (for system-wide jobs). Then load the job using:\n",
    "\n",
    "``` shell\n",
    "launchctl load ~/Library/LaunchAgents/com.username.myscript.plist\n",
    "```\n",
    "\n",
    "3. **Check the Job**: You can verify that your job has been loaded with:\n",
    "\n",
    "``` shell\n",
    "launchctl list | grep com.username.myscript\n",
    "```\n",
    "\n",
    "4. **Unload the Job**: If you ever need to stop or modify the job, you can unload it using:\n",
    "\n",
    "``` shell\n",
    "launchctl unload ~/Library/LaunchAgents/com.username.myscript.plist\n",
    "```\n",
    "\n",
    "After making your changes, you can then reload the job.\n",
    "\n",
    "In conclusion, while `cron` is simpler and more familiar to many users coming from other Unix-like systems, `launchd` is more powerful and is the recommended approach for macOS. If you're planning to stick with macOS for the long term, it's a good idea to get comfortable with `launchd`."
   ]
  },
  {
   "cell_type": "code",
   "execution_count": 6,
   "metadata": {
    "vscode": {
     "languageId": "xml"
    }
   },
   "outputs": [
    {
     "ename": "SyntaxError",
     "evalue": "invalid syntax (2819390127.py, line 1)",
     "output_type": "error",
     "traceback": [
      "\u001b[0;36m  Cell \u001b[0;32mIn[6], line 1\u001b[0;36m\u001b[0m\n\u001b[0;31m    <?xml version=\"1.0\" encoding=\"UTF-8\"?>\u001b[0m\n\u001b[0m    ^\u001b[0m\n\u001b[0;31mSyntaxError\u001b[0m\u001b[0;31m:\u001b[0m invalid syntax\n"
     ]
    }
   ],
   "source": [
    "<?xml version=\"1.0\" encoding=\"UTF-8\"?>\n",
    "<!DOCTYPE plist PUBLIC \"-//Apple//DTD PLIST 1.0//EN\" \"http://www.apple.com/DTDs/PropertyList-1.0.dtd\">\n",
    "<plist version=\"1.0\">\n",
    "<dict>\n",
    "    <key>Label</key>\n",
    "    <string>com.username.myscript</string>  <!-- Change the username and name from myscript -->\n",
    "    <key>ProgramArguments</key>\n",
    "    <array>\n",
    "        <string>/path/to/your/script.sh</string>  <!-- Update the location -->\n",
    "    </array>\n",
    "    <key>StartInterval</key>\n",
    "    <integer>3600</integer> <!-- This is in seconds, so 3600 seconds is 1 hour -->\n",
    "    <key>StandardOutPath</key>\n",
    "    <string>/path/to/your/logfile.log</string> <!-- Update -->\n",
    "    <key>StandardErrorPath</key>\n",
    "    <string>/path/to/your/error_logfile.log</string>  <!-- Update -->\n",
    "</dict>\n",
    "</plist>\n"
   ]
  },
  {
   "cell_type": "code",
   "execution_count": null,
   "metadata": {
    "vscode": {
     "languageId": "shellscript"
    }
   },
   "outputs": [],
   "source": [
    "#Load the job\n",
    "launchctl load ~/Library/LaunchAgents/com.username.myscript.plist #update to match username and name"
   ]
  },
  {
   "cell_type": "code",
   "execution_count": null,
   "metadata": {
    "vscode": {
     "languageId": "shellscript"
    }
   },
   "outputs": [],
   "source": [
    "#Check the job\n",
    "launchctl list | grep com.username.myscript #update to match username and name"
   ]
  },
  {
   "cell_type": "code",
   "execution_count": null,
   "metadata": {
    "vscode": {
     "languageId": "shellscript"
    }
   },
   "outputs": [],
   "source": [
    "# Remove the job\n",
    "launchctl unload ~/Library/LaunchAgents/com.username.myscript.plist #update to match username and name"
   ]
  }
 ],
 "metadata": {
  "kernelspec": {
   "display_name": "Python 3",
   "language": "python",
   "name": "python3"
  },
  "language_info": {
   "codemirror_mode": {
    "name": "ipython",
    "version": 3
   },
   "file_extension": ".py",
   "mimetype": "text/x-python",
   "name": "python",
   "nbconvert_exporter": "python",
   "pygments_lexer": "ipython3",
   "version": "3.10.13"
  }
 },
 "nbformat": 4,
 "nbformat_minor": 2
}
